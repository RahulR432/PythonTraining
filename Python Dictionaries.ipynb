{
 "cells": [
  {
   "cell_type": "markdown",
   "metadata": {},
   "source": [
    "# <div style=\"text-align:center\" > Python Training Hands on Material </div>\n",
    "<div style=\"text-align: right\"> <i> Sheet 2 </i> </div>"
   ]
  },
  {
   "cell_type": "markdown",
   "metadata": {},
   "source": [
    "## Dictionaries in Python"
   ]
  },
  {
   "cell_type": "code",
   "execution_count": null,
   "metadata": {
    "collapsed": true
   },
   "outputs": [],
   "source": [
    "# Simple Dictionary\n",
    "# Dictionary allows to have key:value pairs\n",
    "d1 = {\"Jenni\":5, 'A':65, 66:'B', 9.45:\"Decimals\"}\n",
    "\n",
    "print (d1[\"Jenni\"])\n",
    "print (d1['A'])\n",
    "print (d1[66])\n",
    "print (d1[9.45])"
   ]
  },
  {
   "cell_type": "code",
   "execution_count": null,
   "metadata": {
    "collapsed": true
   },
   "outputs": [],
   "source": [
    "# Adding new kay:value pairs\n",
    "d1 = {\"Jenni\":8, 'A':65, 66:'B', 9.45:\"Decimals\"}\n",
    "\n",
    "d1[\"Scarlett\"] = 8\n",
    "d1[7.56]       = \"Is a decimal!\"\n",
    "d1['Q']        = 17\n",
    "\n",
    "print (d1[\"Scarlett\"])\n",
    "print (d1[7.56])\n",
    "print (d1['Q'])\n",
    "\n",
    "print (d1)"
   ]
  },
  {
   "cell_type": "code",
   "execution_count": null,
   "metadata": {
    "collapsed": true
   },
   "outputs": [],
   "source": [
    "# Declaring an empty dictionary\n",
    "d1 = {}\n",
    "\n",
    "# Add new values\n",
    "d1[\"Jenni\"] = \"Python\"\n",
    "d1[\"Scarlett\"] = \"Python\"\n",
    "d1[45]         = 56\n",
    "\n",
    "print (d1)"
   ]
  },
  {
   "cell_type": "code",
   "execution_count": null,
   "metadata": {
    "collapsed": true
   },
   "outputs": [],
   "source": [
    "# Modifying values in a dictionary\n",
    "d1 = {\"Python\":\"Is a language\", \"Jenni\":\"Feels like a supergirl with Python\"}\n",
    "\n",
    "d1[\"Python\"] = \"Is Love\"\n",
    "d1[\"Jenni\"] = 8\n",
    "print (d1)"
   ]
  },
  {
   "cell_type": "code",
   "execution_count": null,
   "metadata": {
    "collapsed": true
   },
   "outputs": [],
   "source": [
    "# Removing Key:Value pairs\n",
    "d1 = {\"Key\":\"Value\", \"Jenni\":\"Scarlett\", \"Scarlett\":\"Jenni\"}\n",
    "\n",
    "del d1[\"Key\"]\n",
    "print (d1)"
   ]
  },
  {
   "cell_type": "code",
   "execution_count": null,
   "metadata": {
    "collapsed": true
   },
   "outputs": [],
   "source": [
    "# Storing a dictionary inside a dictionary\n",
    "d1 = {'A':65, 'B':66, 'C':67, 'D': {\n",
    "    \"Welcome\": \"Dict in dicts\", \n",
    "    \"Begin\": \"All over\"}, \n",
    "    'E':69, \n",
    "    \"What is D?\": \"It is a Dictionary!\",\n",
    "    66:66}\n",
    "\n",
    "print (d1['D'][\"Welcome\"])\n",
    "print (d1[\"What is D?\"])\n",
    "print ('\\n') #For line separation\n",
    "print (d1)"
   ]
  },
  {
   "cell_type": "code",
   "execution_count": null,
   "metadata": {
    "collapsed": true
   },
   "outputs": [],
   "source": [
    "# List in Dictionary\n",
    "d1 = {\"l1\":['A', 'B', 'C', 'D'],\n",
    "      \"l2\":['E', 'F', 'G', 'H'],\n",
    "       45 : \"qwerty\",\n",
    "      '$' : \"$Dollar$\"}\n",
    "\n",
    "# Accessing the elements in list\n",
    "print (d1[\"l1\"][2])\n",
    "print (d1[\"l2\"][-1])"
   ]
  }
 ],
 "metadata": {
  "anaconda-cloud": {},
  "kernelspec": {
   "display_name": "Python [default]",
   "language": "python",
   "name": "python3"
  },
  "language_info": {
   "codemirror_mode": {
    "name": "ipython",
    "version": 3
   },
   "file_extension": ".py",
   "mimetype": "text/x-python",
   "name": "python",
   "nbconvert_exporter": "python",
   "pygments_lexer": "ipython3",
   "version": "3.5.2"
  }
 },
 "nbformat": 4,
 "nbformat_minor": 2
}
