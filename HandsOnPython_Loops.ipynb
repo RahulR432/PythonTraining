{
 "cells": [
  {
   "cell_type": "markdown",
   "metadata": {},
   "source": [
    "# Control Flow Tools\n",
    "<div style=\"text-align:right\"> Sheet 4 </div>"
   ]
  },
  {
   "cell_type": "markdown",
   "metadata": {},
   "source": [
    "## Loops, Range"
   ]
  },
  {
   "cell_type": "code",
   "execution_count": 4,
   "metadata": {
    "collapsed": false
   },
   "outputs": [
    {
     "name": "stdout",
     "output_type": "stream",
     "text": [
      "5\n",
      "6\n",
      "7\n",
      "8\n",
      "9\n",
      "10\n"
     ]
    }
   ],
   "source": [
    "# Simple while\n",
    "# Loop runs till the condition is True\n",
    "v1 = 5\n",
    "while v1 <= 10:\n",
    "    print (v1)\n",
    "    v1 += 1"
   ]
  },
  {
   "cell_type": "code",
   "execution_count": 5,
   "metadata": {
    "collapsed": false
   },
   "outputs": [
    {
     "name": "stdout",
     "output_type": "stream",
     "text": [
      "1\n",
      "1\n",
      "1\n",
      "1\n",
      "1\n"
     ]
    },
    {
     "ename": "KeyboardInterrupt",
     "evalue": "",
     "output_type": "error",
     "traceback": [
      "\u001b[1;31m---------------------------------------------------------------------------\u001b[0m",
      "\u001b[1;31mKeyboardInterrupt\u001b[0m                         Traceback (most recent call last)",
      "\u001b[1;32m<ipython-input-5-4c783751e137>\u001b[0m in \u001b[0;36m<module>\u001b[1;34m\u001b[0m\n\u001b[0;32m      3\u001b[0m \u001b[1;32mwhile\u001b[0m \u001b[1;36m1\u001b[0m\u001b[1;33m:\u001b[0m\u001b[1;33m\u001b[0m\u001b[1;33m\u001b[0m\u001b[0m\n\u001b[0;32m      4\u001b[0m     \u001b[0mprint\u001b[0m \u001b[1;33m(\u001b[0m\u001b[1;36m1\u001b[0m\u001b[1;33m)\u001b[0m\u001b[1;33m\u001b[0m\u001b[1;33m\u001b[0m\u001b[0m\n\u001b[1;32m----> 5\u001b[1;33m     \u001b[0mtime\u001b[0m\u001b[1;33m.\u001b[0m\u001b[0msleep\u001b[0m\u001b[1;33m(\u001b[0m\u001b[1;36m2\u001b[0m\u001b[1;33m)\u001b[0m\u001b[1;33m\u001b[0m\u001b[1;33m\u001b[0m\u001b[0m\n\u001b[0m\u001b[0;32m      6\u001b[0m \u001b[1;33m\u001b[0m\u001b[0m\n\u001b[0;32m      7\u001b[0m \u001b[1;31m# Uncomment for an infinte loop\u001b[0m\u001b[1;33m\u001b[0m\u001b[1;33m\u001b[0m\u001b[1;33m\u001b[0m\u001b[0m\n",
      "\u001b[1;31mKeyboardInterrupt\u001b[0m: "
     ]
    }
   ],
   "source": [
    "# Infinite Loops\n",
    "import time  # Using time.sleep to avoid flurry of prints\n",
    "while 1:\n",
    "    print (1)\n",
    "    time.sleep(2)\n",
    "    \n",
    "# Uncomment for an infinte loop\n",
    "#while True:\n",
    "#    print (1)"
   ]
  },
  {
   "cell_type": "code",
   "execution_count": 6,
   "metadata": {
    "collapsed": false
   },
   "outputs": [
    {
     "name": "stdout",
     "output_type": "stream",
     "text": [
      "41\n"
     ]
    }
   ],
   "source": [
    "# One Liner while\n",
    "v1 = 0\n",
    "while v1 <= 40: v1 += 1\n",
    "print (v1)"
   ]
  },
  {
   "cell_type": "code",
   "execution_count": 7,
   "metadata": {
    "collapsed": false
   },
   "outputs": [
    {
     "name": "stdout",
     "output_type": "stream",
     "text": [
      "Enter new v1: 25\n",
      "v1 modified to: 25\n",
      "Enter new v1: 50\n",
      "v1 modified to: 50\n",
      "Enter new v1: 100\n",
      "v1 modified to: 100\n"
     ]
    }
   ],
   "source": [
    "# Terminate loop on a certain user input\n",
    "# Note: The loop will break only when the user inputs 100\n",
    "v1 = 1\n",
    "while v1 != 100:\n",
    "    v1 = int(input(\"Enter new v1: \"))\n",
    "    print (\"v1 modified to: \" + str(v1))"
   ]
  },
  {
   "cell_type": "code",
   "execution_count": 8,
   "metadata": {
    "collapsed": false
   },
   "outputs": [
    {
     "name": "stdout",
     "output_type": "stream",
     "text": [
      "Enter new v1: 75\n",
      "75\n",
      "Enter new v1: 100\n"
     ]
    }
   ],
   "source": [
    "# 'break' -> breaks out of loop, doesn't execute any statement after it\n",
    "while 1:\n",
    "    v1 = int(input(\"Enter new v1: \"))\n",
    "    if v1 == 100: \n",
    "        break;\n",
    "    print (v1)"
   ]
  },
  {
   "cell_type": "code",
   "execution_count": 9,
   "metadata": {
    "collapsed": false
   },
   "outputs": [
    {
     "name": "stdout",
     "output_type": "stream",
     "text": [
      "Iteration begins\n",
      "30\n",
      "v1 is less than 100\n",
      "Iteration begins\n",
      "120\n",
      "Iteration complete\n",
      "Iteration begins\n",
      "100\n"
     ]
    }
   ],
   "source": [
    "# 'continue' -> continues to next iteration, skips all statements after it for that iteration\n",
    "# Note: When 'v1' < 100 the last print statement is skipped and the control moves to the next iteration\n",
    "while 1:\n",
    "    print (\"Iteration begins\")\n",
    "    v1 = int(input())\n",
    "    if v1 == 100:\n",
    "        break;\n",
    "    elif v1 < 100:\n",
    "        print (\"v1 is less than 100\")\n",
    "        continue;\n",
    "    print (\"Iteration complete\")"
   ]
  },
  {
   "cell_type": "code",
   "execution_count": 10,
   "metadata": {
    "collapsed": false
   },
   "outputs": [
    {
     "name": "stdout",
     "output_type": "stream",
     "text": [
      "Scarlett\n",
      "is\n",
      "in\n",
      "love\n",
      "with\n",
      "Python\n"
     ]
    }
   ],
   "source": [
    "# Looping through a list using while\n",
    "l1 = [\"Scarlett\", \"is\", \"in\", \"love\", \"with\", \"Python\"]\n",
    "i = 0\n",
    "while i is not len(l1):\n",
    "    print (l1[i])\n",
    "    i += 1"
   ]
  },
  {
   "cell_type": "code",
   "execution_count": 11,
   "metadata": {
    "collapsed": false
   },
   "outputs": [
    {
     "name": "stdout",
     "output_type": "stream",
     "text": [
      "['B', 'C', 'D', 'E', 'Q', 'Z', 'Q', 'D']\n"
     ]
    }
   ],
   "source": [
    "# Removing all instances of a specific value in list\n",
    "l1 = ['A', 'B', 'C', 'D', 'A', 'E', 'Q', 'A', 'Z', 'A', 'Q', 'D', 'A']\n",
    "while 'A' in l1: l1.remove('A')\n",
    "print (l1)"
   ]
  },
  {
   "cell_type": "code",
   "execution_count": 12,
   "metadata": {
    "collapsed": false
   },
   "outputs": [
    {
     "name": "stdout",
     "output_type": "stream",
     "text": [
      "Scarlett\n",
      "is\n",
      "now\n",
      "back\n",
      "from\n",
      "her first\n",
      "Python\n",
      "lesson.\n"
     ]
    }
   ],
   "source": [
    "# Looping Through a list using for\n",
    "l1 = [\"Scarlett\", \"is\", \"now\", \"back\", \"from\", \"her first\", \"Python\", \"lesson.\"]\n",
    "\n",
    "# Do notice the indentations\n",
    "for each_word in l1:\n",
    "    print (each_word)"
   ]
  },
  {
   "cell_type": "code",
   "execution_count": 13,
   "metadata": {
    "collapsed": false
   },
   "outputs": [
    {
     "name": "stdout",
     "output_type": "stream",
     "text": [
      "Guess how much Scarlett scored in her first lesson out of 5:\n",
      "A) 1\n",
      "B) 2\n",
      "C) 3\n",
      "D) 4\n",
      "E) 5\n"
     ]
    }
   ],
   "source": [
    "# Note: range(n, m) will loop over numbers from n to m-1\n",
    "l1 = ['A', 'B', 'C', 'D', 'E']\n",
    "print (\"Guess how much Scarlett scored in her first lesson out of 5:\")\n",
    "for val in range(1, 6):\n",
    "    print (l1[val-1] + \") \" + str(val))"
   ]
  },
  {
   "cell_type": "code",
   "execution_count": 14,
   "metadata": {
    "collapsed": false
   },
   "outputs": [
    {
     "name": "stdout",
     "output_type": "stream",
     "text": [
      "[10, 15, 20, 25, 30, 35, 40, 45, 50]\n"
     ]
    }
   ],
   "source": [
    "# Use range() to skip values at intervals\n",
    "# range (num_to_start_from, num_to_end_at+1, interval)\n",
    "l1 = list(range(10, 51, 5))\n",
    "print (l1)"
   ]
  },
  {
   "cell_type": "code",
   "execution_count": 15,
   "metadata": {
    "collapsed": false
   },
   "outputs": [
    {
     "name": "stdout",
     "output_type": "stream",
     "text": [
      "34\n",
      "12\n",
      "56\n",
      "78\n",
      "89\n"
     ]
    }
   ],
   "source": [
    "# Looping over a tuple\n",
    "t1 = (34, 12, 56, 78, 89)\n",
    "for t in t1:\n",
    "    print (t)"
   ]
  },
  {
   "cell_type": "code",
   "execution_count": 16,
   "metadata": {
    "collapsed": false
   },
   "outputs": [
    {
     "name": "stdout",
     "output_type": "stream",
     "text": [
      "Enter a key: name\n",
      "Enter a value: Jenni\n",
      "exit? no\n",
      "Enter a key: city\n",
      "Enter a value: Hyderabad\n",
      "exit? yes\n",
      "{'name': 'Jenni', 'city': 'Hyderabad'}\n"
     ]
    }
   ],
   "source": [
    "# Filling a dictionary\n",
    "d1 = {}\n",
    "while 1:\n",
    "    key   = input(\"Enter a key: \")\n",
    "    value = input(\"Enter a value: \")\n",
    "    d1[key] = value;\n",
    "    if input(\"exit? \") == \"yes\": break;\n",
    "print (d1)"
   ]
  },
  {
   "cell_type": "code",
   "execution_count": 17,
   "metadata": {
    "collapsed": false
   },
   "outputs": [
    {
     "name": "stdout",
     "output_type": "stream",
     "text": [
      "Key: name\n",
      "Value: Jenni\n",
      "\n",
      "\n",
      "Key: city\n",
      "Value: Hyderabad\n",
      "\n",
      "\n"
     ]
    }
   ],
   "source": [
    "# Looping through a dictionary\n",
    "#d1 = {'name':'Jenni', 'city':'Hyderabad'}\n",
    "for key, value in d1.items():\n",
    "    print(\"Key: \"    + str(key))\n",
    "    print (\"Value: \" + str(value))\n",
    "    print('\\n')"
   ]
  },
  {
   "cell_type": "code",
   "execution_count": 18,
   "metadata": {
    "collapsed": false
   },
   "outputs": [
    {
     "name": "stdout",
     "output_type": "stream",
     "text": [
      "Key: name\n",
      "Value: Jenni\n",
      "\n",
      "\n",
      "Key: city\n",
      "Value: Hyderabad\n",
      "\n",
      "\n"
     ]
    }
   ],
   "source": [
    "# Looping through the keys in dictionary\n",
    "#d1 = {'name':'Jenni', 'city':'Hyderabad'}\n",
    "for key in d1.keys():\n",
    "    print(\"Key: \"    + str(key))\n",
    "    print (\"Value: \" + str(d1[key]))\n",
    "    print('\\n')"
   ]
  },
  {
   "cell_type": "code",
   "execution_count": 19,
   "metadata": {
    "collapsed": false
   },
   "outputs": [
    {
     "name": "stdout",
     "output_type": "stream",
     "text": [
      "Key: name\n",
      "Key: city\n"
     ]
    }
   ],
   "source": [
    "# Note: Default behaviour is to loop through keys if not specified d1.keys()\n",
    "for k in d1:\n",
    "    print(\"Key: \"    + str(k))"
   ]
  },
  {
   "cell_type": "code",
   "execution_count": 20,
   "metadata": {
    "collapsed": false
   },
   "outputs": [
    {
     "name": "stdout",
     "output_type": "stream",
     "text": [
      "Key :city\tValue :Hyderabad\n",
      "\n",
      "Key :name\tValue :Jenni\n",
      "\n"
     ]
    }
   ],
   "source": [
    "# Looping through dictonary keys in sorted order (increasing)\n",
    "for key in sorted(d1.keys()):\n",
    "    print (\"Key :\" + key + '\\t' + \"Value :\" + str(d1[key]) + '\\n')"
   ]
  },
  {
   "cell_type": "code",
   "execution_count": 21,
   "metadata": {
    "collapsed": false,
    "scrolled": true
   },
   "outputs": [
    {
     "name": "stdout",
     "output_type": "stream",
     "text": [
      "Key :name\tValue :Jenni\n",
      "\n",
      "Key :city\tValue :Hyderabad\n",
      "\n"
     ]
    }
   ],
   "source": [
    "# Looping through dictonary keys in sorted order (decreasing)\n",
    "for key in sorted(d1.keys(), reverse=True):\n",
    "    print (\"Key :\" + key + '\\t' + \"Value :\" + str(d1[key]) + '\\n')"
   ]
  },
  {
   "cell_type": "code",
   "execution_count": 22,
   "metadata": {
    "collapsed": false
   },
   "outputs": [
    {
     "name": "stdout",
     "output_type": "stream",
     "text": [
      "abc\n",
      "pqr\n",
      "abc\n",
      "xyz\n"
     ]
    }
   ],
   "source": [
    "# Looping through values in dictionary (with repeats)\n",
    "# Note: If two or more keys have the same value then this method will print all of them\n",
    "d1 = {1:'abc',2:'pqr',3:'abc', 4:'xyz'}\n",
    "for value in d1.values():\n",
    "    print (value)"
   ]
  },
  {
   "cell_type": "code",
   "execution_count": 23,
   "metadata": {
    "collapsed": true
   },
   "outputs": [],
   "source": [
    "# 'pass' -> Nothing happens when pass is executed. It results into no operation (NOP).\n",
    "sequence = {'p', 'a', 's', 's'}\n",
    "for val in sequence:\n",
    "    pass"
   ]
  }
 ],
 "metadata": {
  "anaconda-cloud": {},
  "kernelspec": {
   "display_name": "Python [default]",
   "language": "python",
   "name": "python3"
  },
  "language_info": {
   "codemirror_mode": {
    "name": "ipython",
    "version": 3
   },
   "file_extension": ".py",
   "mimetype": "text/x-python",
   "name": "python",
   "nbconvert_exporter": "python",
   "pygments_lexer": "ipython3",
   "version": "3.5.2"
  }
 },
 "nbformat": 4,
 "nbformat_minor": 2
}
