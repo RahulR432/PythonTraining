{
 "cells": [
  {
   "cell_type": "markdown",
   "metadata": {},
   "source": [
    "# <div style=\"text-align: center \">Python Training Hands on Material </div>\n",
    "<div style=\"text-align: right\"> <i> Rahul Reddy Gajjada </i> </div>"
   ]
  },
  {
   "cell_type": "markdown",
   "metadata": {},
   "source": [
    "## Comments and Printing in Python"
   ]
  },
  {
   "cell_type": "code",
   "execution_count": null,
   "metadata": {
    "collapsed": true
   },
   "outputs": [],
   "source": [
    "# Hello Python\n",
    "print(\"Hello, Python!\")"
   ]
  },
  {
   "cell_type": "code",
   "execution_count": null,
   "metadata": {
    "collapsed": true
   },
   "outputs": [],
   "source": [
    "# Comments\n",
    "# This is a single line comment\n",
    "''' This is a multiline comment\n",
    "    to further describe your \n",
    "    thoughts... '''"
   ]
  },
  {
   "cell_type": "markdown",
   "metadata": {},
   "source": [
    "## Working with variables"
   ]
  },
  {
   "cell_type": "code",
   "execution_count": null,
   "metadata": {
    "collapsed": true
   },
   "outputs": [],
   "source": [
    "# Variables\n",
    "msg = \"Python!\"  # String\n",
    "v2 = 'Python!'   # Also String works same\n",
    "v1 = 2           # Numbers\n",
    "v3 = 3.564       # Floats / Doubles\n",
    "v4 = True        # Boolean (True / False)\n",
    "# print() \n",
    "# automatically adds a newline\n",
    "print (msg)\n",
    "print (v2)\n",
    "print (v1)\n",
    "print (v3)\n",
    "print (v4)\n",
    "print (\"Hello Python!\")"
   ]
  },
  {
   "cell_type": "markdown",
   "metadata": {},
   "source": [
    "# <div style=\"text-align : center\"><u><i> Data Types</i> </u></div>"
   ]
  },
  {
   "cell_type": "markdown",
   "metadata": {},
   "source": [
    "## Numbers"
   ]
  },
  {
   "cell_type": "markdown",
   "metadata": {},
   "source": [
    "### Integers"
   ]
  },
  {
   "cell_type": "code",
   "execution_count": null,
   "metadata": {
    "collapsed": true
   },
   "outputs": [],
   "source": [
    "#Declaring and Assigning integers\n",
    "'''Use the respective prefix to declare an integer in other formats\n",
    "For Binary, ‘0b’ or ‘0B’ \n",
    "For Octal, ‘0o’ or ‘0O’\n",
    "For Hexadecimal, ‘0x’ or ‘0X’ '''\n",
    "x = 1\n",
    "y = 882399773218279\n",
    "z = -125634\n",
    "a = 0b1100\n",
    "\n",
    "#Determine the type of a variable using type keyword\n",
    "print(type(x))\n",
    "print(type(y))\n",
    "print(type(z))\n",
    "print(x,z)\n",
    "print(a)\n",
    "print(type(a))"
   ]
  },
  {
   "cell_type": "markdown",
   "metadata": {},
   "source": [
    "### Floats"
   ]
  },
  {
   "cell_type": "code",
   "execution_count": null,
   "metadata": {
    "collapsed": true
   },
   "outputs": [],
   "source": [
    "#Declaring and Assigning float numbers\n",
    "x = 12.3\n",
    "y = 12.9829379485794548679\n",
    "z = -18.96\n",
    "k = 23e2\n",
    "\n",
    "print(type(x))\n",
    "print(type(y))\n",
    "print(type(z))\n",
    "print(type(k))\n",
    "print (x)\n",
    "print (y)\n",
    "print (z)\n",
    "print(k)"
   ]
  },
  {
   "cell_type": "markdown",
   "metadata": {},
   "source": [
    "### Complex"
   ]
  },
  {
   "cell_type": "code",
   "execution_count": null,
   "metadata": {
    "collapsed": true
   },
   "outputs": [],
   "source": [
    "#Declaring and Assigning complex numbers\n",
    "x = -5j\n",
    "y = 2 + 4j\n",
    "z = 22j\n",
    "\n",
    "print(type(x))\n",
    "print(type(y))\n",
    "print(type(z))\n",
    "print(x)\n",
    "print(y)\n",
    "print(z)"
   ]
  },
  {
   "cell_type": "markdown",
   "metadata": {},
   "source": [
    "## <div style=\"text-align: center\"><u> <i>Python Strings </i></u> </div>"
   ]
  },
  {
   "cell_type": "code",
   "execution_count": null,
   "metadata": {
    "collapsed": true
   },
   "outputs": [],
   "source": [
    "# Note: Both \" and ' can be used to make strings. And this flexibility allows for the following:\n",
    "msg2 = 'Jenni said, \"I love Python!\"'\n",
    "msg3 = \"After that Jenni's Python Interpreter said it back to her!\"\n",
    "msg4 = 'Of Course she used the command `print(\"I love Jenni\")`'\n",
    "\n",
    "print (msg2)\n",
    "print (msg3)\n",
    "print (msg4)"
   ]
  },
  {
   "cell_type": "code",
   "execution_count": null,
   "metadata": {
    "collapsed": true
   },
   "outputs": [],
   "source": [
    "# Import the string module to get all the in-built helper methods for string\n",
    "import string"
   ]
  },
  {
   "cell_type": "code",
   "execution_count": null,
   "metadata": {
    "collapsed": true
   },
   "outputs": [],
   "source": [
    "# Case change of string variables\n",
    "name    = \"JeNni Loves PytHon\"\n",
    "\n",
    "# Title case\n",
    "name_t  = name.title() \n",
    "print (name_t)\n",
    "\n",
    "# Upper case\n",
    "name_t  = name.upper() \n",
    "print (name_t)\n",
    "\n",
    "# Lower case\n",
    "name_t  = name.lower() \n",
    "print (name_t)"
   ]
  },
  {
   "cell_type": "code",
   "execution_count": null,
   "metadata": {
    "collapsed": true
   },
   "outputs": [],
   "source": [
    "# String Concatenation\n",
    "fname = \"jenni\"\n",
    "lname = \"python\"\n",
    "flname = fname + \" \" + lname\n",
    "\n",
    "print (fname + \" \" + lname)\n",
    "print (\"Jenni\" + \" \" + \"Python\")\n",
    "# OR equivalently\n",
    "print (flname.title())"
   ]
  },
  {
   "cell_type": "code",
   "execution_count": null,
   "metadata": {
    "collapsed": true
   },
   "outputs": [],
   "source": [
    "# Adding WhiteSpaces\n",
    "print (\"Jen\\nloves\\npython\"); print(\"----------\")\n",
    "print (\"Jen\\tloves\\tpython\"); print(\"----------\")\n",
    "print (\"Jen\\tloves\\npython\"); print(\"----------\")"
   ]
  },
  {
   "cell_type": "code",
   "execution_count": null,
   "metadata": {
    "collapsed": true
   },
   "outputs": [],
   "source": [
    "# Stripping Whitespace\n",
    "name1 = \"    Jenni\"\n",
    "name2 = \"Jenni    \"\n",
    "name3 = \"  Jenni  \"\n",
    "\n",
    "print (name1)\n",
    "print (name2)\n",
    "print (name3)\n",
    "print (\"----------\")\n",
    "print (name1.lstrip()) # lstrip() takes all extra whitespaces from left\n",
    "print (name2.rstrip()) # rstrip() takes all extra whitespaces from right\n",
    "print (name3.strip())  # strip() takes all extra whitespaces from both left and right"
   ]
  },
  {
   "cell_type": "code",
   "execution_count": null,
   "metadata": {
    "collapsed": true
   },
   "outputs": [],
   "source": [
    "# Some helpful constants built-in the string module\n",
    "print (\"All Letters:   \" + string.ascii_letters)\n",
    "print (\"Lowecase:      \" + string.ascii_lowercase)\n",
    "print (\"Uppercase:     \" + string.ascii_uppercase)\n",
    "print (\"Punctuations:  \" + string.punctuation)\n",
    "print (\"Numbers:       \" + string.digits)\n",
    "print (\"Hex Digits:    \" + string.hexdigits)\n",
    "print (\"Oct Digits:    \" + string.octdigits)\n",
    "print (\"Whitespace:    \" + string.whitespace)\n",
    "print (\"Printable:     \" + string.printable)"
   ]
  },
  {
   "cell_type": "markdown",
   "metadata": {},
   "source": [
    "## <div style=\"text-align:center\"> <u> <i>Python Lists</i> </u> </div>"
   ]
  },
  {
   "cell_type": "code",
   "execution_count": null,
   "metadata": {
    "collapsed": true
   },
   "outputs": [],
   "source": [
    "# Simple Lists\n",
    "names = [\"Jenni\", \"Python\", \"Scarlett\"]\n",
    "nums  = [1, 2, 3, 4, 5]\n",
    "chars = ['A', 'q', 'E', 'z', 'Y']\n",
    "\n",
    "print (names)\n",
    "print (nums)\n",
    "print (chars)"
   ]
  },
  {
   "cell_type": "code",
   "execution_count": null,
   "metadata": {
    "collapsed": true
   },
   "outputs": [],
   "source": [
    "# Can have multiple data types in one list\n",
    "random_list = [\"Jenni\", \"Python\", \"inneJ\", 'J', '9', 9, 12.90, \"Who\"]\n",
    "print (random_list)"
   ]
  },
  {
   "cell_type": "code",
   "execution_count": null,
   "metadata": {
    "collapsed": true
   },
   "outputs": [],
   "source": [
    "# Accessing elements in a list\n",
    "# O-indexed\n",
    "print (names[2])\n",
    "print (random_list[3])\n",
    "print (names[0] + \" \" + random_list[2].title())"
   ]
  },
  {
   "cell_type": "code",
   "execution_count": null,
   "metadata": {
    "collapsed": true
   },
   "outputs": [],
   "source": [
    "# Negetive indexes: Access elements from the end of the list without knowing the size of the list\n",
    "print (random_list[-1]) # Returns the last element of the list [1st from the end]\n",
    "print (random_list[-2]) # Returns the 2nd last element\n",
    "# and so on.."
   ]
  },
  {
   "cell_type": "code",
   "execution_count": null,
   "metadata": {
    "collapsed": true
   },
   "outputs": [],
   "source": [
    "# Now here's a question.\n",
    "print (random_list[-1] + \" is \" + names[2] + \"?\")\n",
    "print (\"A) \" + random_list[0] + \"'s sister\\tB) \" + names[0] + \"'s Friend\\nC) Not Related to \" +\n",
    "       random_list[-8] + \"\\tD) Nice question but I don't know\")"
   ]
  },
  {
   "cell_type": "code",
   "execution_count": null,
   "metadata": {
    "collapsed": true
   },
   "outputs": [],
   "source": [
    "# Modifying elements in a list\n",
    "str_list = [\"Scarlett\", \"is\", \"a\", \"nice\", 'girl', '!']\n",
    "\n",
    "print (str_list)\n",
    "str_list[0] = \"Jenni\"\n",
    "print (str_list)"
   ]
  },
  {
   "cell_type": "code",
   "execution_count": null,
   "metadata": {
    "collapsed": true
   },
   "outputs": [],
   "source": [
    "# Adding elements to a list\n",
    "# Use append() to add elements to the end of the list\n",
    "str_list.append ('She is 21.')\n",
    "print (str_list)"
   ]
  },
  {
   "cell_type": "code",
   "execution_count": null,
   "metadata": {
    "collapsed": true
   },
   "outputs": [],
   "source": [
    "# So, you can build lists like this\n",
    "my_list = []\n",
    "my_list.append (\"myname\")\n",
    "my_list.append (\"myage\")\n",
    "my_list.append (\"myaddress\")\n",
    "my_list.append (\"myphn\")\n",
    "my_list.append (\"is\")\n",
    "my_list.append (1234567890)\n",
    "print (my_list)"
   ]
  },
  {
   "cell_type": "code",
   "execution_count": null,
   "metadata": {
    "collapsed": true
   },
   "outputs": [],
   "source": [
    "# Insert elements at specific positions of the list\n",
    "# insert(index, element)\n",
    "my_list.insert (0, \"Mr/Miss/Mrs\")\n",
    "print (my_list)\n",
    "\n",
    "my_list.insert(4, \"mybday\")\n",
    "print (my_list)"
   ]
  },
  {
   "cell_type": "code",
   "execution_count": null,
   "metadata": {
    "collapsed": true
   },
   "outputs": [],
   "source": [
    "# Using '-1' to insert at the end doesn't work and inserts element at the 2nd last position.\n",
    "my_list = ['A', 'B', 'C', 'D']\n",
    "my_list.insert (-1, 'E')\n",
    "print (my_list)"
   ]
  },
  {
   "cell_type": "code",
   "execution_count": null,
   "metadata": {
    "collapsed": true
   },
   "outputs": [],
   "source": [
    "# Insert elements at the end\n",
    "l1 = ['A', 'B', 'C', 'D']\n",
    "l2 = ['A', 'B', 'C', 'D']\n",
    "\n",
    "l1.append('E')\n",
    "l2.insert(len(my_list), 'E')\n",
    "print (l1)\n",
    "print (l2)"
   ]
  },
  {
   "cell_type": "code",
   "execution_count": null,
   "metadata": {
    "collapsed": true
   },
   "outputs": [],
   "source": [
    "# Length of the list\n",
    "l1 = ['A', 'B', 'C', 'D', 'E']\n",
    "print (len(l1))"
   ]
  },
  {
   "cell_type": "code",
   "execution_count": null,
   "metadata": {
    "collapsed": true
   },
   "outputs": [],
   "source": [
    "# # Removing elements from list\n",
    "# del can remove any element from list as long as you know its index\n",
    "l1 = ['A', 'B', 'C', 'D', 'E']\n",
    "print (l1)\n",
    "\n",
    "del l1[0]\n",
    "print (l1)\n",
    "\n",
    "del l1[-1]\n",
    "print (l1)"
   ]
  },
  {
   "cell_type": "code",
   "execution_count": null,
   "metadata": {
    "collapsed": true
   },
   "outputs": [],
   "source": [
    "# pop() can remove the last element from list when used without any arguments\n",
    "l1 = ['A', 'B', 'C', 'D', 'E']\n",
    "# pop() returns the last element, so c would store the popped element\n",
    "c = l1.pop()\n",
    "\n",
    "print (l1)\n",
    "print (c)\n",
    "\n",
    "# pop(n) -> Removes the element at index 'n' and returns it\n",
    "l1 = ['A', 'B', 'C', 'D', 'E']\n",
    "\n",
    "# Removes the element at 0 position and returns it\n",
    "c = l1.pop(0)\n",
    "print (l1)\n",
    "print (c)\n",
    "\n",
    "# Works as expected with negetive indexes\n",
    "c = l1.pop(-1)\n",
    "print (l1)\n",
    "print (c)"
   ]
  },
  {
   "cell_type": "code",
   "execution_count": null,
   "metadata": {
    "collapsed": true
   },
   "outputs": [],
   "source": [
    "# Removing an item by value\n",
    "# remove() only removes the first occurence of the value that is specified.\n",
    "q1 = [\"Seriously, \", \"what\", \"happened\", \"to\", \"Jenni\", \"and\", \"Jenni\", \"?\"]\n",
    "print (q1)\n",
    "\n",
    "q1.remove (\"Jenni\")\n",
    "print (q1)\n",
    "\n",
    "n1 = \"and\"\n",
    "q1.remove(n1)\n",
    "print (q1)"
   ]
  },
  {
   "cell_type": "code",
   "execution_count": null,
   "metadata": {
    "collapsed": true
   },
   "outputs": [],
   "source": [
    "# Sorting a list\n",
    "# sort() -> sorts list in increasing or decreasing order, *permantantly*\n",
    "# Sorts in alphabetical order\n",
    "l1 = ['E', 'D', 'C', 'B', 'A']\n",
    "l1.sort()\n",
    "print (l1)\n",
    "\n",
    "# Sorts in increasing order\n",
    "l2 = [2, 200, 16, 4, 1, 0, 9.45, 45.67, 90, 12.01, 12.02]\n",
    "l2.sort()\n",
    "print (l2)\n",
    "print(\"------\")\n",
    "# Reverse sorts alphabetical order\n",
    "l1 = ['E', 'D', 'C', 'B', 'A']\n",
    "l1.sort(reverse=True)\n",
    "print (l1)\n",
    "\n",
    "# Sorts in decreasing order\n",
    "l2 = [2, 200, 16, 4, 1, 0, 9.45, 45.67, 90, 12.01, 12.02]\n",
    "l2.sort(reverse=True)\n",
    "print (l2)"
   ]
  },
  {
   "cell_type": "code",
   "execution_count": null,
   "metadata": {
    "collapsed": true
   },
   "outputs": [],
   "source": [
    "# sorted() -> Sorts list in increasing or decreasing order, *temporarily*\n",
    "\n",
    "# Sorts in increasing order\n",
    "l2 = [2, 200, 16, 4, 1, 0, 9.45, 45.67, 90, 12.01, 12.02]\n",
    "print (l2)\n",
    "print (sorted(l2))\n",
    "print (l2)\n",
    "print(\"------\")\n",
    "# Sorts in decreasing order\n",
    "l2 = [2, 200, 16, 4, 1, 0, 9.45, 45.67, 90, 12.01, 12.02]\n",
    "print (l2)\n",
    "print (sorted(l2, reverse=True))\n",
    "print (l2)"
   ]
  },
  {
   "cell_type": "code",
   "execution_count": null,
   "metadata": {
    "collapsed": true
   },
   "outputs": [],
   "source": [
    "# Reverse list\n",
    "l1 = ['E', 'D', 'C', 'B', 'A']\n",
    "l1.reverse()\n",
    "print (l1)"
   ]
  },
  {
   "cell_type": "markdown",
   "metadata": {},
   "source": [
    "## <div style=\"text-align:center\"><u><i>Python Tuples</i></u></div>"
   ]
  },
  {
   "cell_type": "code",
   "execution_count": null,
   "metadata": {
    "collapsed": true
   },
   "outputs": [],
   "source": [
    "# Simple Tuples\n",
    "# Tuples are list, the elements stored in which cannot be changed.\n",
    "t1 = (1, 2, 3, 4, 5, 6, 7)\n",
    "print (t1)\n",
    "print (t1[4])"
   ]
  },
  {
   "cell_type": "code",
   "execution_count": null,
   "metadata": {
    "collapsed": true
   },
   "outputs": [],
   "source": [
    "# Cannot change the elements stored as compared to lists\n",
    "l1 = [1, 2, 3, 4, 5, 6, 7]\n",
    "t1 = (1, 2, 3, 4, 5, 6, 7)\n",
    "\n",
    "# Can change elements in list\n",
    "l1[4] = 1\n",
    "# Cannot change elements in tuple ( Uncomment it to see the error )\n",
    "#t1[4] = 1\n",
    "\n",
    "print (l1)\n",
    "print (t1)"
   ]
  },
  {
   "cell_type": "code",
   "execution_count": null,
   "metadata": {
    "collapsed": true
   },
   "outputs": [],
   "source": [
    "# Writing over a tuple\n",
    "# One cannot change the elements stored in the tuple. \n",
    "# But you can assign a new tuple to the variable that stores the tuple you wanna change.\n",
    "t1 = (23, 12, 45, 78)\n",
    "print (t1)\n",
    "\n",
    "t1 = (45, 67) # t1 changed to new value\n",
    "print (t1)"
   ]
  }
 ],
 "metadata": {
  "kernelspec": {
   "display_name": "Python [default]",
   "language": "python",
   "name": "python3"
  },
  "language_info": {
   "codemirror_mode": {
    "name": "ipython",
    "version": 3
   },
   "file_extension": ".py",
   "mimetype": "text/x-python",
   "name": "python",
   "nbconvert_exporter": "python",
   "pygments_lexer": "ipython3",
   "version": "3.5.2"
  }
 },
 "nbformat": 4,
 "nbformat_minor": 2
}
